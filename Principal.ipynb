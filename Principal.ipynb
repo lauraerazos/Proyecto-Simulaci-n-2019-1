{
 "cells": [
  {
   "cell_type": "markdown",
   "metadata": {},
   "source": [
    "Transformación de los dataset"
   ]
  },
  {
   "cell_type": "code",
   "execution_count": 9,
   "metadata": {},
   "outputs": [
    {
     "name": "stdout",
     "output_type": "stream",
     "text": [
      "(180,)\n",
      "(180,)\n",
      "(180,)\n",
      "(180,)\n",
      "(180,)\n",
      "(180,)\n",
      "(180,)\n",
      "(180,)\n",
      "(180,)\n",
      "(180,)\n",
      "(180,)\n",
      "(180,)\n",
      "(180,)\n",
      "(180,)\n",
      "(180,)\n",
      "(180,)\n",
      "(180,)\n",
      "(180,)\n",
      "(180,)\n",
      "(180,)\n",
      "(180,)\n",
      "(180,)\n",
      "(180,)\n",
      "(180,)\n",
      "(180,)\n",
      "(180,)\n",
      "(180,)\n",
      "(180,)\n"
     ]
    }
   ],
   "source": [
    "import pandas as pd\n",
    "import matplotlib.pyplot as plt\n",
    "import numpy as np\n",
    "\n",
    "clases=['a01','a02','a03','a04'];\n",
    "persons=['p1','p2','p3','p4','p5','p6','p7']\n",
    "files=np.zeros(60)\n",
    "\n",
    "title=np.zeros(45)\n",
    "features=np.zeros(180)\n",
    "muestras=np.zeros((180,9120))\n",
    "\n",
    "\n",
    "\n",
    "for c in clases:\n",
    "    for p in persons:\n",
    "         for f in range(1,60):\n",
    "            if f<10:\n",
    "                 df = pd.read_csv(\"../Data/\"+c+\"/\"+p+\"/s0\"+str(f)+\".txt\",delimiter=',',names=title)\n",
    "            else:\n",
    "                 df = pd.read_csv(\"../Data/\"+c+\"/\"+p+\"/s\"+str(f)+\".txt\",delimiter=',',names=title)\n",
    "            \n",
    "            \n",
    "            matrixSegmentos=df.to_numpy()\n",
    "            media, varianza, maximo, minimo,othervector=calcularVectorFeatures(matrixSegmentos)\n",
    "            features=np.concatenate((media,varianza,maximo,minimo))\n",
    "            print(features.shape)\n",
    "            break\n",
    "            #print(\"Medias\",str(media),\"Varianza\",str(varianza),\"Maximos\",str(maximo),\"Minimos\",str(minimo))\n",
    "            #print(media.shape)\n",
    "   \n",
    "\n",
    "\n",
    "\n",
    "\n",
    "\n"
   ]
  },
  {
   "cell_type": "code",
   "execution_count": 11,
   "metadata": {},
   "outputs": [],
   "source": [
    "from scipy.fftpack import fft, ifft\n",
    "def transformadaFourier(vectorColumna):\n",
    "    result=np.fft.fft(vectorColumna)\n",
    "    print(result)\n",
    "    #return result"
   ]
  },
  {
   "cell_type": "code",
   "execution_count": 8,
   "metadata": {},
   "outputs": [],
   "source": [
    "\n",
    "def calcularVectorFeatures(MatrixSegmentos):\n",
    "    medias=np.zeros(45)\n",
    "    varianzas=np.zeros(45)\n",
    "    maximos=np.zeros(45)\n",
    "    minimos=np.zeros(45)\n",
    "    transformada=np.zeros(45)\n",
    "    size=MatrixSegmentos.shape\n",
    "    i=0\n",
    "    for j in range(0,size[1]):\n",
    "        vectorEvaluar=MatrixSegmentos[:,j] #Recopilando columna j\n",
    "        vectoraux=np.reshape(125,1)\n",
    "        vectoraux=vectorEvaluar\n",
    "        #print(vectoraux)\n",
    "        medias[i]=np.mean(vectorEvaluar)\n",
    "        varianzas[i]=np.var(vectorEvaluar)\n",
    "        maximos[i]=max(vectorEvaluar)\n",
    "        minimos[i]=min(vectorEvaluar)\n",
    "        result=np.fft.fft(vectorEvaluar)\n",
    "        #print(result)\n",
    "        #transformada[i]=result\n",
    "        #print(transformada[i])\n",
    "        i=i+1\n",
    "    return medias,varianzas,maximos,minimos,vectoraux\n",
    "\n",
    "    \n",
    "    "
   ]
  },
  {
   "cell_type": "code",
   "execution_count": 11,
   "metadata": {},
   "outputs": [
    {
     "name": "stdout",
     "output_type": "stream",
     "text": [
      "[-1.08538640e+02+0.00000000e+00j  2.90827055e-01-4.49076384e-02j\n",
      "  4.84473221e-01-3.80281524e-02j  1.50920075e-01-5.51074419e-01j\n",
      " -7.42917412e-02-2.99649391e-01j -1.12144976e-01-2.34903787e-01j\n",
      " -2.39481735e-01-6.11422267e-02j -1.22904434e-01+5.99590370e-02j\n",
      " -3.48988336e-02+3.45416646e-02j  7.48443609e-03+2.06087070e-02j\n",
      " -3.84000761e-02+3.80288645e-02j  6.20095353e-03+7.56371197e-02j\n",
      "  2.22903790e-02+7.61386769e-02j  6.02440431e-02+4.51196201e-02j\n",
      "  8.77838225e-02+4.78457946e-02j  9.55911742e-02+5.91398682e-03j\n",
      "  8.79804376e-02+4.34850783e-03j  8.90287510e-02-1.96738294e-02j\n",
      "  6.95687728e-02-3.89038914e-02j  6.85281386e-02-4.50135839e-02j\n",
      "  3.25842562e-02-5.60694674e-02j  2.86711281e-02-5.41974740e-02j\n",
      "  3.08135166e-02-5.04117827e-02j  3.27753037e-02-3.67165494e-02j\n",
      "  1.71205450e-02-2.70583042e-02j  3.54304057e-02-2.00488787e-02j\n",
      "  2.58133457e-02-2.87055622e-02j  2.43640455e-02-3.35751179e-02j\n",
      "  1.97630260e-02-1.99827076e-02j  2.46680335e-02-3.74882754e-02j\n",
      "  7.00828627e-03-4.14263292e-02j  6.68958868e-03-3.81703070e-02j\n",
      "  1.25459881e-02-2.46201304e-02j  4.19327168e-03-2.53108752e-02j\n",
      "  6.65035788e-03-2.47555394e-02j  3.35208101e-03-1.69509374e-02j\n",
      "  7.73272863e-03-1.15976433e-02j  1.67424456e-02-7.58188451e-03j\n",
      "  7.22257731e-03-2.10298424e-02j  1.98052036e-02-1.99528656e-02j\n",
      "  3.55738281e-03-9.30074896e-03j  6.22616399e-03-1.86639137e-02j\n",
      "  4.34732486e-03-1.26495300e-02j  5.56613241e-03-1.60109319e-02j\n",
      "  1.01637195e-02-5.05217622e-03j  4.31960829e-03-2.43102947e-03j\n",
      "  4.51316246e-03-1.17228040e-02j  8.88688837e-03+2.42470727e-03j\n",
      "  1.08377353e-02-2.66018359e-03j  1.16861540e-02-1.19374356e-02j\n",
      "  1.26895943e-02-1.32189150e-02j  9.38295587e-03-1.10933667e-02j\n",
      "  1.98105726e-02-1.16200931e-02j  8.55040073e-03-9.47878039e-03j\n",
      "  1.14792325e-02+6.18399907e-03j  1.31409080e-02+1.52555105e-03j\n",
      "  1.01243997e-02-1.95457431e-03j  1.61287184e-02-1.79862438e-03j\n",
      "  1.16677998e-02+1.13158366e-03j  7.45233075e-03+6.30290742e-03j\n",
      "  1.68163555e-02+2.59433206e-03j  8.75979971e-03-3.56144680e-03j\n",
      "  1.10920621e-02+1.96834874e-04j  1.10920621e-02-1.96834874e-04j\n",
      "  8.75979971e-03+3.56144680e-03j  1.68163555e-02-2.59433206e-03j\n",
      "  7.45233075e-03-6.30290742e-03j  1.16677998e-02-1.13158366e-03j\n",
      "  1.61287184e-02+1.79862438e-03j  1.01243997e-02+1.95457431e-03j\n",
      "  1.31409080e-02-1.52555105e-03j  1.14792325e-02-6.18399907e-03j\n",
      "  8.55040073e-03+9.47878039e-03j  1.98105726e-02+1.16200931e-02j\n",
      "  9.38295587e-03+1.10933667e-02j  1.26895943e-02+1.32189150e-02j\n",
      "  1.16861540e-02+1.19374356e-02j  1.08377353e-02+2.66018359e-03j\n",
      "  8.88688837e-03-2.42470727e-03j  4.51316246e-03+1.17228040e-02j\n",
      "  4.31960829e-03+2.43102947e-03j  1.01637195e-02+5.05217622e-03j\n",
      "  5.56613241e-03+1.60109319e-02j  4.34732486e-03+1.26495300e-02j\n",
      "  6.22616399e-03+1.86639137e-02j  3.55738281e-03+9.30074896e-03j\n",
      "  1.98052036e-02+1.99528656e-02j  7.22257731e-03+2.10298424e-02j\n",
      "  1.67424456e-02+7.58188451e-03j  7.73272863e-03+1.15976433e-02j\n",
      "  3.35208101e-03+1.69509374e-02j  6.65035788e-03+2.47555394e-02j\n",
      "  4.19327168e-03+2.53108752e-02j  1.25459881e-02+2.46201304e-02j\n",
      "  6.68958868e-03+3.81703070e-02j  7.00828627e-03+4.14263292e-02j\n",
      "  2.46680335e-02+3.74882754e-02j  1.97630260e-02+1.99827076e-02j\n",
      "  2.43640455e-02+3.35751179e-02j  2.58133457e-02+2.87055622e-02j\n",
      "  3.54304057e-02+2.00488787e-02j  1.71205450e-02+2.70583042e-02j\n",
      "  3.27753037e-02+3.67165494e-02j  3.08135166e-02+5.04117827e-02j\n",
      "  2.86711281e-02+5.41974740e-02j  3.25842562e-02+5.60694674e-02j\n",
      "  6.85281386e-02+4.50135839e-02j  6.95687728e-02+3.89038914e-02j\n",
      "  8.90287510e-02+1.96738294e-02j  8.79804376e-02-4.34850783e-03j\n",
      "  9.55911742e-02-5.91398682e-03j  8.77838225e-02-4.78457946e-02j\n",
      "  6.02440431e-02-4.51196201e-02j  2.22903790e-02-7.61386769e-02j\n",
      "  6.20095353e-03-7.56371197e-02j -3.84000761e-02-3.80288645e-02j\n",
      "  7.48443609e-03-2.06087070e-02j -3.48988336e-02-3.45416646e-02j\n",
      " -1.22904434e-01-5.99590370e-02j -2.39481735e-01+6.11422267e-02j\n",
      " -1.12144976e-01+2.34903787e-01j -7.42917412e-02+2.99649391e-01j\n",
      "  1.50920075e-01+5.51074419e-01j  4.84473221e-01+3.80281524e-02j\n",
      "  2.90827055e-01+4.49076384e-02j]\n"
     ]
    }
   ],
   "source": [
    "import numpy as np\n",
    "import matplotlib.pyplot as plt\n",
    "\n",
    "\n",
    "auux=np.fft.fft(othervectorervector)\n",
    "print(auux)\n"
   ]
  },
  {
   "cell_type": "code",
   "execution_count": 12,
   "metadata": {},
   "outputs": [
    {
     "name": "stderr",
     "output_type": "stream",
     "text": [
      "C:\\Users\\ASUS\\Anaconda3\\lib\\site-packages\\numpy\\core\\numeric.py:538: ComplexWarning: Casting complex values to real discards the imaginary part\n",
      "  return array(a, dtype, copy=False, order=order)\n"
     ]
    },
    {
     "data": {
      "image/png": "[encoded data removed]",
      "text/plain": [
       "<Figure size 432x288 with 1 Axes>"
      ]
     },
     "metadata": {
      "needs_background": "light"
     },
     "output_type": "display_data"
    }
   ],
   "source": [
    "plt.plot(othervector,auux)\n",
    "plt.show()"
   ]
  },
  {
   "cell_type": "code",
   "execution_count": 19,
   "metadata": {},
   "outputs": [
    {
     "name": "stdout",
     "output_type": "stream",
     "text": [
      "[ True False False  True  True  True  True  True False False]\n"
     ]
    }
   ],
   "source": [
    "import numpy as np\n",
    "import scipy.fftpack as fourier\n",
    "import matplotlib.pyplot as plt\n"
   ]
  }
 ],
 "metadata": {
  "kernelspec": {
   "display_name": "Python 3",
   "language": "python",
   "name": "python3"
  },
  "language_info": {
   "codemirror_mode": {
    "name": "ipython",
    "version": 3
   },
   "file_extension": ".py",
   "mimetype": "text/x-python",
   "name": "python",
   "nbconvert_exporter": "python",
   "pygments_lexer": "ipython3",
   "version": "3.7.3"
  }
 },
 "nbformat": 4,
 "nbformat_minor": 2
}

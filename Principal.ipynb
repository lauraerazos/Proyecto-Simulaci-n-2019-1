{
 "cells": [
  {
   "cell_type": "markdown",
   "metadata": {},
   "source": [
    "Transformación de los dataset"
   ]
  },
  {
   "cell_type": "code",
   "execution_count": 55,
   "metadata": {},
   "outputs": [
    {
     "name": "stdout",
     "output_type": "stream",
     "text": [
      "(226,)\n"
     ]
    },
    {
     "ename": "Error",
     "evalue": "iterable expected, not numpy.float64",
     "output_type": "error",
     "traceback": [
      "\u001b[1;31m---------------------------------------------------------------------------\u001b[0m",
      "\u001b[1;31mError\u001b[0m                                     Traceback (most recent call last)",
      "\u001b[1;32m<ipython-input-55-66bfef72ff90>\u001b[0m in \u001b[0;36m<module>\u001b[1;34m\u001b[0m\n\u001b[0;32m     46\u001b[0m             \u001b[1;32mwith\u001b[0m \u001b[0mopen\u001b[0m\u001b[1;33m(\u001b[0m\u001b[1;34m'dataset.csv'\u001b[0m\u001b[1;33m,\u001b[0m \u001b[1;34m'a'\u001b[0m\u001b[1;33m)\u001b[0m \u001b[1;32mas\u001b[0m \u001b[0mwriteFile\u001b[0m\u001b[1;33m:\u001b[0m\u001b[1;33m\u001b[0m\u001b[1;33m\u001b[0m\u001b[0m\n\u001b[0;32m     47\u001b[0m                 \u001b[0mwriter\u001b[0m \u001b[1;33m=\u001b[0m \u001b[0mcsv\u001b[0m\u001b[1;33m.\u001b[0m\u001b[0mwriter\u001b[0m\u001b[1;33m(\u001b[0m\u001b[0mwriteFile\u001b[0m\u001b[1;33m)\u001b[0m\u001b[1;33m\u001b[0m\u001b[1;33m\u001b[0m\u001b[0m\n\u001b[1;32m---> 48\u001b[1;33m                 \u001b[0mwriter\u001b[0m\u001b[1;33m.\u001b[0m\u001b[0mwriterows\u001b[0m\u001b[1;33m(\u001b[0m\u001b[0mfeatures\u001b[0m\u001b[1;33m)\u001b[0m\u001b[1;33m\u001b[0m\u001b[1;33m\u001b[0m\u001b[0m\n\u001b[0m\u001b[0;32m     49\u001b[0m \u001b[1;33m\u001b[0m\u001b[0m\n\u001b[0;32m     50\u001b[0m \u001b[1;33m\u001b[0m\u001b[0m\n",
      "\u001b[1;31mError\u001b[0m: iterable expected, not numpy.float64"
     ]
    }
   ],
   "source": [
    "import pandas as pd\n",
    "import matplotlib.pyplot as plt\n",
    "import numpy as np\n",
    "import csv\n",
    "\n",
    "clases=['a01','a02','a03','a04'];\n",
    "clasescod=codificarClases(clases)\n",
    "persons=['p1','p2','p3','p4','p5','p6','p7','p8']\n",
    "files=np.zeros(60)\n",
    "\n",
    "title=np.zeros(45)\n",
    "features=np.zeros(180)\n",
    "muestras=np.zeros((180,9120))\n",
    "\n",
    "flag=1\n",
    "file = open(\"dataset.csv\", \"w\", newline='')\n",
    "for c in clases:\n",
    "    \n",
    "    for p in persons:\n",
    "         for f in range(1,61):\n",
    "            if f<10:\n",
    "                 df = pd.read_csv(\"../Data/\"+c+\"/\"+p+\"/s0\"+str(f)+\".txt\",delimiter=',',names=title)\n",
    "            else:\n",
    "                 df = pd.read_csv(\"../Data/\"+c+\"/\"+p+\"/s\"+str(f)+\".txt\",delimiter=',',names=title)\n",
    "            \n",
    "            if flag>0 and flag<=480:\n",
    "                salidaMuestra=clasescod[0]\n",
    "              \n",
    "            if flag>480 and flag<=960:\n",
    "                salidaMuestra=clasescod[1]\n",
    "            \n",
    "            if flag>960 and flag<=1440:\n",
    "                 salidaMuestra=clasescod[2]\n",
    "            if flag>1440 and flag<=1920:\n",
    "                salidaMuestra=clasescod[3]\n",
    "                \n",
    "            vectorsalida=np.zeros(1)\n",
    "            vectorsalida[0]=salidaMuestra\n",
    "            matrixSegmentos=df.to_numpy()\n",
    "            media, varianza, maximo, minimo,transformada=calcularVectorFeatures(matrixSegmentos)\n",
    "            features=np.concatenate((media,varianza,maximo,minimo,transformada,vectorsalida))\n",
    "            print(features.shape)\n",
    "            \n",
    "            #spamreader = csv.writer(file)\n",
    "            #spamreader.writerow(features)\n",
    "            with open('dataset.csv', '') as writeFile:\n",
    "                writer = csv.writer(writeFile)\n",
    "                writer.writerows(features)\n",
    "            file.close()\n",
    "           \n",
    "             \n",
    "\n",
    "\n",
    "\n",
    "\n",
    "\n",
    "\n"
   ]
  },
  {
   "cell_type": "code",
   "execution_count": 25,
   "metadata": {},
   "outputs": [],
   "source": [
    "from sklearn import preprocessing\n",
    "def codificarClases(vectorClases):    \n",
    "    le = preprocessing.LabelEncoder()\n",
    "    le.fit(vectorClases)\n",
    "    list(le.classes_)\n",
    "    response=le.transform(['a01','a02','a03','a04']) \n",
    "    return response\n",
    "                         "
   ]
  },
  {
   "cell_type": "code",
   "execution_count": 1,
   "metadata": {},
   "outputs": [],
   "source": [
    "import math\n",
    "from scipy.fftpack import fft, ifft\n",
    "def transformadaFourier(vectorColumna):\n",
    "    result=np.fft.fft(vectorColumna)\n",
    "    \n",
    "    index = math.floor(result.shape[0]/2)\n",
    "    #print(index)\n",
    "    result = result.reshape(result.shape[0],1)\n",
    "    #print(vectorColumna.shape,result.shape, index)\n",
    "    #print(result)\n",
    "    vectorPartido=result[62:-1]\n",
    "    #print(vectorPartido.shape,'vector partido')\n",
    " \n",
    "    vectorabsoluto=np.abs(vectorPartido)\n",
    "    #print(vectorabsoluto)\n",
    "    posicionMaxima=np.argmax(vectorabsoluto)\n",
    "    #print(posicionMaxima)\n",
    "    return posicionMaxima"
   ]
  },
  {
   "cell_type": "code",
   "execution_count": 2,
   "metadata": {},
   "outputs": [],
   "source": [
    "\n",
    "def calcularVectorFeatures(MatrixSegmentos):\n",
    "    medias=np.zeros(45)\n",
    "    varianzas=np.zeros(45)\n",
    "    maximos=np.zeros(45)\n",
    "    minimos=np.zeros(45)\n",
    "    transformada=np.zeros(45)\n",
    "    size=MatrixSegmentos.shape\n",
    "    i=0\n",
    "    for j in range(0,size[1]):\n",
    "        vectorEvaluar=MatrixSegmentos[:,j] #Recopilando columna j\n",
    "        vectoraux=np.reshape(125,1)\n",
    "        vectoraux=vectorEvaluar\n",
    "        #print(vectoraux)\n",
    "        medias[i]=np.mean(vectorEvaluar)\n",
    "        varianzas[i]=np.var(vectorEvaluar)\n",
    "        maximos[i]=max(vectorEvaluar)\n",
    "        minimos[i]=min(vectorEvaluar)\n",
    "     \n",
    "        transformada[i]=transformadaFourier(vectorEvaluar)\n",
    "        #print(result)\n",
    "        #transformada[i]=result\n",
    "        #print(transformada[i])\n",
    "        i=i+1\n",
    "    return medias,varianzas,maximos,minimos,transformada\n",
    "\n",
    "    \n",
    "    "
   ]
  },
  {
   "cell_type": "code",
   "execution_count": 24,
   "metadata": {},
   "outputs": [
    {
     "name": "stdout",
     "output_type": "stream",
     "text": [
      "[0 1 2 3]\n"
     ]
    }
   ],
   "source": [
    "clases=codificarClases(clases)\n",
    "print(clases)"
   ]
  },
  {
   "cell_type": "code",
   "execution_count": 46,
   "metadata": {},
   "outputs": [
    {
     "name": "stdout",
     "output_type": "stream",
     "text": [
      "(1920, 45)\n"
     ]
    }
   ],
   "source": [
    "\n",
    "titletwo=np.zeros(225)\n",
    "data = pd.read_csv(\"dataset.csv\",names=title)\n",
    "print(data.shape)"
   ]
  }
 ],
 "metadata": {
  "kernelspec": {
   "display_name": "Python 3",
   "language": "python",
   "name": "python3"
  },
  "language_info": {
   "codemirror_mode": {
    "name": "ipython",
    "version": 3
   },
   "file_extension": ".py",
   "mimetype": "text/x-python",
   "name": "python",
   "nbconvert_exporter": "python",
   "pygments_lexer": "ipython3",
   "version": "3.7.3"
  }
 },
 "nbformat": 4,
 "nbformat_minor": 2
}

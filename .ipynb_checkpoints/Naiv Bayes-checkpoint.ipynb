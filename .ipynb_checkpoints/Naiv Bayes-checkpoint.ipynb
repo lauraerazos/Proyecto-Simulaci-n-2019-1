{
 "cells": [
  {
   "cell_type": "code",
   "execution_count": 27,
   "metadata": {},
   "outputs": [
    {
     "name": "stdout",
     "output_type": "stream",
     "text": [
      "(1920, 227)\n"
     ]
    }
   ],
   "source": [
    "import numpy as np\n",
    "import pandas as pd\n",
    "import csv\n",
    "titletwo=np.zeros(225)\n",
    "df = pd.read_csv(\"dataset_f.csv\", index_col=False, header=None)\n",
    "print(df.shape)"
   ]
  },
  {
   "cell_type": "code",
   "execution_count": 28,
   "metadata": {},
   "outputs": [],
   "source": [
    "numpy_matrix = df.values\n",
    "#error = np.zeros(8)\n",
    "X = numpy_matrix[:,0:225]\n",
    "Y = numpy_matrix[:,225]\n",
    "personsLabel = numpy_matrix[:,226]"
   ]
  },
  {
   "cell_type": "code",
   "execution_count": 29,
   "metadata": {},
   "outputs": [
    {
     "data": {
      "text/plain": [
       "4"
      ]
     },
     "execution_count": 29,
     "metadata": {},
     "output_type": "execute_result"
    }
   ],
   "source": [
    "\n",
    "len(np.unique(Y))"
   ]
  },
  {
   "cell_type": "code",
   "execution_count": 30,
   "metadata": {},
   "outputs": [
    {
     "name": "stdout",
     "output_type": "stream",
     "text": [
      "225\n"
     ]
    }
   ],
   "source": [
    "feature=X[0]\n",
    "print(len(feature))"
   ]
  },
  {
   "cell_type": "code",
   "execution_count": 6,
   "metadata": {},
   "outputs": [
    {
     "name": "stdout",
     "output_type": "stream",
     "text": [
      "480\n",
      "480\n",
      "480\n",
      "480\n"
     ]
    }
   ],
   "source": [
    "print(len((np.where(Y==0)[0])))\n",
    "print(len((np.where(Y==1)[0])))\n",
    "print(len((np.where(Y==2)[0])))\n",
    "print(len((np.where(Y==3)[0])))\n"
   ]
  },
  {
   "cell_type": "code",
   "execution_count": 32,
   "metadata": {
    "scrolled": true
   },
   "outputs": [
    {
     "name": "stderr",
     "output_type": "stream",
     "text": [
      "C:\\Users\\ASUS\\Anaconda3\\lib\\site-packages\\ipykernel_launcher.py:14: FutureWarning: Method .as_matrix will be removed in a future version. Use .values instead.\n",
      "  \n"
     ]
    },
    {
     "name": "stdout",
     "output_type": "stream",
     "text": [
      "[0. 0. 0. ... 7. 7. 7.]\n",
      "(1920,)\n",
      "0.12492559523809524+-0.33052205738671486\n",
      "0.11458333333333333+-0.3031590043928176\n",
      "Accuracy:  0.9166666666666666 \n",
      "\n",
      "\n",
      "classification report :\n",
      "               precision    recall  f1-score   support\n",
      "\n",
      "         0.0       1.00      0.80      0.89        60\n",
      "         1.0       1.00      0.88      0.94        60\n",
      "         2.0       0.84      0.98      0.91        60\n",
      "         3.0       0.87      1.00      0.93        60\n",
      "\n",
      "   micro avg       0.92      0.92      0.92       240\n",
      "   macro avg       0.93      0.92      0.92       240\n",
      "weighted avg       0.93      0.92      0.92       240\n",
      "\n",
      "0.24985119047619048+-0.43275495623633115\n",
      "0.23802083333333335+-0.41264432186997047\n",
      "Accuracy:  0.9875 \n",
      "\n",
      "\n",
      "classification report :\n",
      "               precision    recall  f1-score   support\n",
      "\n",
      "         0.0       1.00      0.97      0.98        60\n",
      "         1.0       1.00      1.00      1.00        60\n",
      "         2.0       0.95      1.00      0.98        60\n",
      "         3.0       1.00      0.98      0.99        60\n",
      "\n",
      "   micro avg       0.99      0.99      0.99       240\n",
      "   macro avg       0.99      0.99      0.99       240\n",
      "weighted avg       0.99      0.99      0.99       240\n",
      "\n",
      "0.37470238095238095+-0.48373872425584374\n",
      "0.36250000000000004+-0.4684906690046713\n",
      "Accuracy:  0.9958333333333333 \n",
      "\n",
      "\n",
      "classification report :\n",
      "               precision    recall  f1-score   support\n",
      "\n",
      "         0.0       1.00      1.00      1.00        60\n",
      "         1.0       1.00      1.00      1.00        60\n",
      "         2.0       0.98      1.00      0.99        60\n",
      "         3.0       1.00      0.98      0.99        60\n",
      "\n",
      "   micro avg       1.00      1.00      1.00       240\n",
      "   macro avg       1.00      1.00      1.00       240\n",
      "weighted avg       1.00      1.00      1.00       240\n",
      "\n",
      "0.49962797619047616+-0.49962800943161967\n",
      "0.48750000000000004+-0.48809169931934354\n",
      "Accuracy:  1.0 \n",
      "\n",
      "\n",
      "classification report :\n",
      "               precision    recall  f1-score   support\n",
      "\n",
      "         0.0       1.00      1.00      1.00        60\n",
      "         1.0       1.00      1.00      1.00        60\n",
      "         2.0       1.00      1.00      1.00        60\n",
      "         3.0       1.00      1.00      1.00        60\n",
      "\n",
      "   micro avg       1.00      1.00      1.00       240\n",
      "   macro avg       1.00      1.00      1.00       240\n",
      "weighted avg       1.00      1.00      1.00       240\n",
      "\n",
      "0.6245535714285714+-0.48377715281041245\n",
      "0.6119791666666667+-0.4746912259381238\n",
      "Accuracy:  0.9958333333333333 \n",
      "\n",
      "\n",
      "classification report :\n",
      "               precision    recall  f1-score   support\n",
      "\n",
      "         0.0       0.98      1.00      0.99        60\n",
      "         1.0       1.00      1.00      1.00        60\n",
      "         2.0       1.00      1.00      1.00        60\n",
      "         3.0       1.00      0.98      0.99        60\n",
      "\n",
      "   micro avg       1.00      1.00      1.00       240\n",
      "   macro avg       1.00      1.00      1.00       240\n",
      "weighted avg       1.00      1.00      1.00       240\n",
      "\n",
      "0.7495535714285714+-0.4327550585772584\n",
      "0.7348958333333333+-0.425025211159912\n",
      "Accuracy:  0.9833333333333333 \n",
      "\n",
      "\n",
      "classification report :\n",
      "               precision    recall  f1-score   support\n",
      "\n",
      "         0.0       0.97      0.98      0.98        60\n",
      "         1.0       1.00      0.98      0.99        60\n",
      "         2.0       0.97      0.97      0.97        60\n",
      "         3.0       1.00      1.00      1.00        60\n",
      "\n",
      "   micro avg       0.98      0.98      0.98       240\n",
      "   macro avg       0.98      0.98      0.98       240\n",
      "weighted avg       0.98      0.98      0.98       240\n",
      "\n",
      "0.8744791666666667+-0.33052219138243094\n",
      "0.8572916666666667+-0.3249849756142582\n",
      "Accuracy:  0.9791666666666666 \n",
      "\n",
      "\n",
      "classification report :\n",
      "               precision    recall  f1-score   support\n",
      "\n",
      "         0.0       0.94      0.98      0.96        60\n",
      "         1.0       1.00      1.00      1.00        60\n",
      "         2.0       0.98      0.93      0.96        60\n",
      "         3.0       1.00      1.00      1.00        60\n",
      "\n",
      "   micro avg       0.98      0.98      0.98       240\n",
      "   macro avg       0.98      0.98      0.98       240\n",
      "weighted avg       0.98      0.98      0.98       240\n",
      "\n",
      "0.9994047619047619+-0.00029761904761904656\n",
      "0.9822916666666667+-0.025832493265910944\n",
      "Accuracy:  1.0 \n",
      "\n",
      "\n",
      "classification report :\n",
      "               precision    recall  f1-score   support\n",
      "\n",
      "         0.0       1.00      1.00      1.00        60\n",
      "         1.0       1.00      1.00      1.00        60\n",
      "         2.0       1.00      1.00      1.00        60\n",
      "         3.0       1.00      1.00      1.00        60\n",
      "\n",
      "   micro avg       1.00      1.00      1.00       240\n",
      "   macro avg       1.00      1.00      1.00       240\n",
      "weighted avg       1.00      1.00      1.00       240\n",
      "\n",
      "0.9822916666666667 0.025832493265910944\n"
     ]
    }
   ],
   "source": [
    "from sklearn.model_selection import GroupKFold\n",
    "from numpy import random\n",
    "import math\n",
    "import numpy.matlib\n",
    "from scipy import stats\n",
    "import scipy as sc\n",
    "import operator\n",
    "from sklearn.model_selection import GridSearchCV\n",
    "from sklearn.naive_bayes import GaussianNB\n",
    "from sklearn.metrics import classification_report,confusion_matrix,accuracy_score,roc_curve,auc\n",
    "\n",
    "\n",
    "\n",
    "numpy_matrix = df.as_matrix()\n",
    "#error = np.zeros(8)\n",
    "X = numpy_matrix[:,0:225]\n",
    "Y = numpy_matrix[:,225]\n",
    "personsLabel = numpy_matrix[:,226]\n",
    "X.shape\n",
    "\n",
    "\n",
    "groups = np.array(personsLabel)\n",
    "print(groups)\n",
    "print(groups.shape)\n",
    "eficienciaTrain=np.zeros(8)\n",
    "eficienciaTest=np.zeros(8)\n",
    "accurrancy=np.zeros(8)\n",
    "indexPredict=[]\n",
    "group_kfold = GroupKFold(n_splits=8)\n",
    "group_kfold.get_n_splits(X, Y, groups)\n",
    "j=0\n",
    "for train_index, test_index in group_kfold.split(X, Y, groups):\n",
    "    \n",
    "    X_train, X_test = X[train_index], X[test_index]\n",
    "    y_train, y_test = Y[train_index], Y[test_index]\n",
    "    \n",
    "    \n",
    "    parameters = {'var_smooting':1e-9}\n",
    "  \n",
    "    group_kfold = GroupKFold(n_splits=7)\n",
    "    gnb = GaussianNB()\n",
    "    clf = GridSearchCV(gnb, parameters, cv=group_kfold.split(X_train, y_train, groups[train_index]))\n",
    "    clf.fit(Xtrain,y_train)\n",
    "    gnb.fit(X_train,y_train)\n",
    "    y_predTrain = clf.predict(X_train)\n",
    "    y_predTest=clf.predict(X_test)\n",
    "    \n",
    "    \n",
    "    eficienciaTrain[j]=np.mean(y_predTrain.ravel() == y_train.ravel())\n",
    "    eficienciaTest[j]=np.mean(y_predTest.ravel() == y_test.ravel())\n",
    "    \n",
    "    \n",
    "    \n",
    "    #y_predict=clf.predict(X_test)\n",
    "    #y_pred=clf.predict(X_test)\n",
    "\n",
    "    #print(y_pred)\n",
    "    #print('Accuracy: ', accuracy_score(y_test, y_pred), '\\n')\n",
    "    print(str(np.mean(eficienciaTrain)) + '+-' + str(np.std(eficienciaTrain)))\n",
    "    print(str(np.mean(eficienciaTest)) + '+-' + str(np.std(eficienciaTest)))\n",
    "    accurrancy[j]=np.mean(eficienciaTest)\n",
    "    indexPredict.append(y_predTest)\n",
    "    report = classification_report(y_test, y_predTest)\n",
    "    print('Accuracy: ', accuracy_score(y_test, y_predTest), '\\n')\n",
    "    print(\"\\nclassification report :\\n\",report )\n",
    "    \n",
    "    \n",
    "    j=j+1\n",
    "   \n",
    "\n",
    " #print('salida')\n",
    "print (str(np.mean(eficienciaTest)),str(np.std(eficienciaTest)))\n",
    "    \n",
    "\n",
    "    \n",
    "\n",
    "    "
   ]
  },
  {
   "cell_type": "code",
   "execution_count": 20,
   "metadata": {},
   "outputs": [
    {
     "name": "stdout",
     "output_type": "stream",
     "text": [
      "7\n",
      "[0. 0. 2. 0. 0. 0. 0. 0. 0. 0. 0. 0. 0. 0. 0. 0. 0. 0. 0. 0. 0. 0. 0. 0.\n",
      " 0. 0. 0. 0. 0. 0. 0. 0. 0. 0. 0. 0. 0. 0. 0. 0. 0. 0. 0. 0. 0. 0. 0. 0.\n",
      " 0. 0. 0. 0. 0. 0. 0. 0. 0. 0. 0. 0. 1. 1. 1. 1. 1. 1. 1. 1. 1. 1. 1. 1.\n",
      " 1. 1. 1. 1. 1. 1. 1. 1. 1. 1. 1. 1. 1. 1. 1. 1. 1. 1. 1. 1. 1. 1. 1. 1.\n",
      " 1. 1. 1. 1. 1. 1. 1. 1. 1. 1. 1. 1. 1. 1. 1. 1. 1. 1. 1. 1. 1. 1. 1. 1.\n",
      " 2. 0. 2. 2. 2. 2. 2. 2. 2. 2. 2. 2. 2. 2. 2. 0. 2. 2. 2. 2. 2. 2. 0. 0.\n",
      " 2. 2. 2. 2. 2. 2. 2. 2. 2. 2. 2. 2. 2. 2. 2. 2. 2. 2. 2. 2. 2. 2. 2. 2.\n",
      " 2. 2. 2. 2. 2. 2. 2. 2. 2. 2. 2. 2. 3. 3. 3. 3. 3. 3. 3. 3. 3. 3. 3. 3.\n",
      " 3. 3. 3. 3. 3. 3. 3. 3. 3. 3. 3. 3. 3. 3. 3. 3. 3. 3. 3. 3. 3. 3. 3. 3.\n",
      " 3. 3. 3. 3. 3. 3. 3. 3. 3. 3. 3. 3. 3. 3. 3. 3. 3. 3. 3. 3. 3. 3. 3. 3.]\n"
     ]
    }
   ],
   "source": [
    "indice=accurrancy.argmax()\n",
    "print(indice)\n",
    "ypredicprima=indexPredict[indice-1]\n",
    "print(ypredicprima)"
   ]
  },
  {
   "cell_type": "code",
   "execution_count": 9,
   "metadata": {},
   "outputs": [
    {
     "name": "stdout",
     "output_type": "stream",
     "text": [
      "GaussianNB(priors=None, var_smoothing=1e-09)\n"
     ]
    }
   ],
   "source": [
    "from sklearn.metrics import classification_report,confusion_matrix,accuracy_score,roc_curve,auc\n",
    "from sklearn.naive_bayes import GaussianNB\n",
    "\n",
    "parameters = {}\n",
    "groups = np.array(personsLabel)\n",
    "group_kfold = GroupKFold(n_splits=7)\n",
    "gnb = GaussianNB()\n",
    "clf = GridSearchCV(gnb, parameters, cv=group_kfold.split(X_train,y_train, groups[train_index]))\n",
    "#clf.fit(X_train,y_train)\n",
    "clf.fit(X_train,y_train)\n",
    "print(clf.best_estimator_)"
   ]
  },
  {
   "cell_type": "code",
   "execution_count": 39,
   "metadata": {},
   "outputs": [
    {
     "name": "stdout",
     "output_type": "stream",
     "text": [
      "[0. 0. 2. 0. 0. 0. 0. 0. 0. 0. 0. 0. 0. 0. 0. 0. 0. 0. 0. 0. 0. 0. 0. 0.\n",
      " 0. 0. 0. 0. 0. 0. 0. 0. 0. 0. 0. 0. 0. 0. 0. 0. 0. 0. 0. 0. 0. 0. 0. 0.\n",
      " 0. 0. 0. 0. 0. 0. 0. 0. 0. 0. 0. 0. 1. 1. 1. 1. 1. 1. 1. 1. 1. 1. 1. 1.\n",
      " 1. 1. 1. 1. 1. 1. 1. 1. 1. 1. 1. 1. 1. 1. 1. 1. 1. 1. 1. 1. 1. 1. 1. 1.\n",
      " 1. 1. 1. 1. 1. 1. 1. 1. 1. 1. 1. 1. 1. 1. 1. 1. 1. 1. 1. 1. 1. 1. 1. 1.\n",
      " 2. 0. 2. 2. 2. 2. 2. 2. 2. 2. 2. 2. 2. 2. 2. 0. 2. 2. 2. 2. 2. 2. 0. 0.\n",
      " 2. 2. 2. 2. 2. 2. 2. 2. 2. 2. 2. 2. 2. 2. 2. 2. 2. 2. 2. 2. 2. 2. 2. 2.\n",
      " 2. 2. 2. 2. 2. 2. 2. 2. 2. 2. 2. 2. 3. 3. 3. 3. 3. 3. 3. 3. 3. 3. 3. 3.\n",
      " 3. 3. 3. 3. 3. 3. 3. 3. 3. 3. 3. 3. 3. 3. 3. 3. 3. 3. 3. 3. 3. 3. 3. 3.\n",
      " 3. 3. 3. 3. 3. 3. 3. 3. 3. 3. 3. 3. 3. 3. 3. 3. 3. 3. 3. 3. 3. 3. 3. 3.]\n",
      "[0. 0. 0. 0. 0. 0. 0. 0. 0. 0. 0. 0. 0. 0. 0. 0. 0. 0. 0. 0. 0. 0. 0. 0.\n",
      " 0. 0. 0. 0. 0. 0. 0. 0. 0. 0. 0. 0. 0. 0. 0. 0. 0. 0. 0. 0. 0. 0. 0. 0.\n",
      " 0. 0. 0. 0. 0. 0. 0. 0. 0. 0. 0. 0. 1. 1. 1. 1. 1. 1. 1. 1. 1. 1. 1. 1.\n",
      " 1. 1. 1. 1. 1. 1. 1. 1. 1. 1. 1. 1. 1. 1. 1. 1. 1. 1. 1. 1. 1. 1. 1. 1.\n",
      " 1. 1. 1. 1. 1. 1. 1. 1. 1. 1. 1. 1. 1. 1. 1. 1. 1. 1. 1. 1. 1. 1. 1. 1.\n",
      " 2. 2. 2. 2. 2. 2. 2. 2. 2. 2. 2. 2. 2. 2. 2. 2. 2. 2. 2. 2. 2. 2. 2. 2.\n",
      " 2. 2. 2. 2. 2. 2. 2. 2. 2. 2. 2. 2. 2. 2. 2. 2. 2. 2. 2. 2. 2. 2. 2. 2.\n",
      " 2. 2. 2. 2. 2. 2. 2. 2. 2. 2. 2. 2. 3. 3. 3. 3. 3. 3. 3. 3. 3. 3. 3. 3.\n",
      " 3. 3. 3. 3. 3. 3. 3. 3. 3. 3. 3. 3. 3. 3. 3. 3. 3. 3. 3. 3. 3. 3. 3. 3.\n",
      " 3. 3. 3. 3. 3. 3. 3. 3. 3. 3. 3. 3. 3. 3. 3. 3. 3. 3. 3. 3. 3. 3. 3. 3.]\n",
      "Accuracy:  0.9791666666666666 \n",
      "\n",
      "\n",
      "classification report :\n",
      "               precision    recall  f1-score   support\n",
      "\n",
      "         0.0       0.94      0.98      0.96        60\n",
      "         1.0       1.00      1.00      1.00        60\n",
      "         2.0       0.98      0.93      0.96        60\n",
      "         3.0       1.00      1.00      1.00        60\n",
      "\n",
      "   micro avg       0.98      0.98      0.98       240\n",
      "   macro avg       0.98      0.98      0.98       240\n",
      "weighted avg       0.98      0.98      0.98       240\n",
      "\n"
     ]
    }
   ],
   "source": [
    "from sklearn.metrics import classification_report,confusion_matrix,accuracy_score,roc_curve,auc\n",
    "y_predict=clf.predict(X_test)\n",
    "\n",
    "print(ypredicprima)\n",
    "print(y_test)\n",
    "print('Accuracy: ', accuracy_score(y_test, ypredicprima), '\\n')\n",
    "report = classification_report(y_test, ypredicprima)\n",
    "print(\"\\nclassification report :\\n\",report )"
   ]
  },
  {
   "cell_type": "code",
   "execution_count": 34,
   "metadata": {},
   "outputs": [
    {
     "name": "stdout",
     "output_type": "stream",
     "text": [
      "GaussianNB(priors=None, var_smoothing=1e-09)\n"
     ]
    }
   ],
   "source": [
    "print(clf.best_estimator_)"
   ]
  },
  {
   "cell_type": "code",
   "execution_count": 40,
   "metadata": {},
   "outputs": [
    {
     "data": {
      "text/plain": [
       "Text(0.5, 1.0, 'Matriz de confusión')"
      ]
     },
     "execution_count": 40,
     "metadata": {},
     "output_type": "execute_result"
    },
    {
     "data": {
      "image/png": "[encoded data removed]",
      "text/plain": [
       "<Figure size 936x720 with 2 Axes>"
      ]
     },
     "metadata": {
      "needs_background": "light"
     },
     "output_type": "display_data"
    }
   ],
   "source": [
    "from sklearn.model_selection import GroupKFold\n",
    "from sklearn.naive_bayes import GaussianNB\n",
    "import seaborn as sns\n",
    "import matplotlib.pyplot as plt\n",
    "\n",
    "plt.figure(figsize=(13,10))\n",
    "plt.subplot(221)\n",
    "sns.heatmap(confusion_matrix(y_test, y_predict),annot=True,fmt = \"d\",linecolor=\"k\",linewidths=3)\n",
    "plt.title(\"Matriz de confusión\",fontsize=20)"
   ]
  },
  {
   "cell_type": "code",
   "execution_count": 48,
   "metadata": {},
   "outputs": [
    {
     "data": {
      "text/plain": [
       "7"
      ]
     },
     "execution_count": 48,
     "metadata": {},
     "output_type": "execute_result"
    }
   ],
   "source": [
    "from sklearn.model_selection import GroupKFold\n",
    "from sklearn.naive_bayes import GaussianNB\n",
    "gnb = GaussianNB()\n",
    "groups = np.array(personsLabel)\n",
    "group_kfolds = GroupKFold(n_splits=8),\n",
    "#group_kfold.get_n_splits(X, Y, groups)\n",
    "#group_kfolds.get_n_splits(X, Y, groups)\n",
    "group_kfold.get_n_splits(X,Y,groups)\n",
    "#cv=group_kfold.split(X_train, y_train, groups[train_index])"
   ]
  },
  {
   "cell_type": "code",
   "execution_count": 45,
   "metadata": {},
   "outputs": [
    {
     "name": "stdout",
     "output_type": "stream",
     "text": [
      "GaussianNB(priors=None, var_smoothing=1e-09)\n"
     ]
    }
   ],
   "source": [
    "clf = GridSearchCV(gnb, {}, cv=group_kfold.split(X_train, y_train, groups[train_index]))\n",
    "clf.fit(X_train,y_train)\n",
    "print(clf.best_estimator_)"
   ]
  },
  {
   "cell_type": "code",
   "execution_count": 46,
   "metadata": {},
   "outputs": [
    {
     "name": "stdout",
     "output_type": "stream",
     "text": [
      "[0. 0. 0. 0. 0. 0. 0. 0. 0. 0. 0. 0. 0. 0. 0. 0. 0. 0. 0. 0. 0. 0. 0. 0.\n",
      " 0. 0. 0. 0. 0. 0. 0. 0. 0. 0. 0. 0. 0. 0. 0. 0. 0. 0. 0. 0. 0. 0. 0. 0.\n",
      " 0. 0. 0. 0. 0. 0. 0. 0. 0. 0. 0. 0. 1. 1. 1. 1. 1. 1. 1. 1. 1. 1. 1. 1.\n",
      " 1. 1. 1. 1. 1. 1. 1. 1. 1. 1. 1. 1. 1. 1. 1. 1. 1. 1. 1. 1. 1. 1. 1. 1.\n",
      " 1. 1. 1. 1. 1. 1. 1. 1. 1. 1. 1. 1. 1. 1. 1. 1. 1. 1. 1. 1. 1. 1. 1. 1.\n",
      " 2. 2. 2. 2. 2. 2. 2. 2. 2. 2. 2. 2. 2. 2. 2. 2. 2. 2. 2. 2. 2. 2. 2. 2.\n",
      " 2. 2. 2. 2. 2. 2. 2. 2. 2. 2. 2. 2. 2. 2. 2. 2. 2. 2. 2. 2. 2. 2. 2. 2.\n",
      " 2. 2. 2. 2. 2. 2. 2. 2. 2. 2. 2. 2. 3. 3. 3. 3. 3. 3. 3. 3. 3. 3. 3. 3.\n",
      " 3. 3. 3. 3. 3. 3. 3. 3. 3. 3. 3. 3. 3. 3. 3. 3. 3. 3. 3. 3. 3. 3. 3. 3.\n",
      " 3. 3. 3. 3. 3. 3. 3. 3. 3. 3. 3. 3. 3. 3. 3. 3. 3. 3. 3. 3. 3. 3. 3. 3.]\n"
     ]
    }
   ],
   "source": [
    "y_predict=clf.predict(X_test)\n",
    "print(y_predict)"
   ]
  },
  {
   "cell_type": "code",
   "execution_count": 47,
   "metadata": {},
   "outputs": [
    {
     "name": "stdout",
     "output_type": "stream",
     "text": [
      "Accuracy:  1.0 \n",
      "\n"
     ]
    }
   ],
   "source": [
    "print('Accuracy: ', accuracy_score(y_test, y_predict), '\\n')"
   ]
  },
  {
   "cell_type": "code",
   "execution_count": null,
   "metadata": {},
   "outputs": [],
   "source": [
    "from sklearn.metrics import classification_report,confusion_matrix,accuracy_score,roc_curve,auc\n",
    "y_predict=clf.predict(X_test)\n",
    "\n",
    "print(y_predict)\n",
    "print('Accuracy: ', accuracy_score(y_test, y_predict), '\\n')\n",
    "report = classification_report(y_test, y_predict)\n",
    "print(\"\\nclassification report :\\n\",report )"
   ]
  }
 ],
 "metadata": {
  "kernelspec": {
   "display_name": "Python 3",
   "language": "python",
   "name": "python3"
  },
  "language_info": {
   "codemirror_mode": {
    "name": "ipython",
    "version": 3
   },
   "file_extension": ".py",
   "mimetype": "text/x-python",
   "name": "python",
   "nbconvert_exporter": "python",
   "pygments_lexer": "ipython3",
   "version": "3.7.3"
  }
 },
 "nbformat": 4,
 "nbformat_minor": 2
}

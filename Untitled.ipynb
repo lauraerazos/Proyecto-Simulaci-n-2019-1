{
 "cells": [
  {
   "cell_type": "code",
   "execution_count": 1,
   "metadata": {},
   "outputs": [
    {
     "ename": "NameError",
     "evalue": "name 'codificarClases' is not defined",
     "output_type": "error",
     "traceback": [
      "\u001b[1;31m---------------------------------------------------------------------------\u001b[0m",
      "\u001b[1;31mNameError\u001b[0m                                 Traceback (most recent call last)",
      "\u001b[1;32m<ipython-input-1-d4819648b35d>\u001b[0m in \u001b[0;36m<module>\u001b[1;34m\u001b[0m\n\u001b[0;32m      5\u001b[0m \u001b[1;33m\u001b[0m\u001b[0m\n\u001b[0;32m      6\u001b[0m \u001b[0mclases\u001b[0m\u001b[1;33m=\u001b[0m\u001b[1;33m[\u001b[0m\u001b[1;34m'a01'\u001b[0m\u001b[1;33m,\u001b[0m\u001b[1;34m'a02'\u001b[0m\u001b[1;33m,\u001b[0m\u001b[1;34m'a03'\u001b[0m\u001b[1;33m,\u001b[0m\u001b[1;34m'a04'\u001b[0m\u001b[1;33m]\u001b[0m\u001b[1;33m;\u001b[0m\u001b[1;33m\u001b[0m\u001b[1;33m\u001b[0m\u001b[0m\n\u001b[1;32m----> 7\u001b[1;33m \u001b[0mclasescod\u001b[0m\u001b[1;33m=\u001b[0m\u001b[0mcodificarClases\u001b[0m\u001b[1;33m(\u001b[0m\u001b[0mclases\u001b[0m\u001b[1;33m)\u001b[0m\u001b[1;33m\u001b[0m\u001b[1;33m\u001b[0m\u001b[0m\n\u001b[0m\u001b[0;32m      8\u001b[0m \u001b[0mpersons\u001b[0m\u001b[1;33m=\u001b[0m\u001b[1;33m[\u001b[0m\u001b[1;34m'p1'\u001b[0m\u001b[1;33m,\u001b[0m\u001b[1;34m'p2'\u001b[0m\u001b[1;33m,\u001b[0m\u001b[1;34m'p3'\u001b[0m\u001b[1;33m,\u001b[0m\u001b[1;34m'p4'\u001b[0m\u001b[1;33m,\u001b[0m\u001b[1;34m'p5'\u001b[0m\u001b[1;33m,\u001b[0m\u001b[1;34m'p6'\u001b[0m\u001b[1;33m,\u001b[0m\u001b[1;34m'p7'\u001b[0m\u001b[1;33m,\u001b[0m\u001b[1;34m'p8'\u001b[0m\u001b[1;33m]\u001b[0m\u001b[1;33m\u001b[0m\u001b[1;33m\u001b[0m\u001b[0m\n\u001b[0;32m      9\u001b[0m \u001b[0mpersonscod\u001b[0m \u001b[1;33m=\u001b[0m \u001b[0mcodificarClases\u001b[0m\u001b[1;33m(\u001b[0m\u001b[0mpersons\u001b[0m\u001b[1;33m)\u001b[0m\u001b[1;33m\u001b[0m\u001b[1;33m\u001b[0m\u001b[0m\n",
      "\u001b[1;31mNameError\u001b[0m: name 'codificarClases' is not defined"
     ]
    }
   ],
   "source": [
    "import pandas as pd\n",
    "import matplotlib.pyplot as plt\n",
    "import numpy as np\n",
    "import csv\n",
    "\n",
    "clases=['a01','a02','a03','a04'];\n",
    "clasescod=codificarClases(clases)\n",
    "persons=['p1','p2','p3','p4','p5','p6','p7','p8']\n",
    "personscod = codificarClases(persons)\n",
    "files=np.zeros(60)\n",
    "\n",
    "title=np.zeros(45)\n",
    "features=np.zeros(180)\n",
    "muestras=np.zeros((180,9120))\n",
    "\n",
    "flag=1\n",
    "file = open(\"dataset.csv\", \"w\", newline='')\n",
    "data_matrix = []\n",
    "for posClase, c in enumerate(clases):\n",
    "    \n",
    "    for posPerson, p in enumerate(persons):\n",
    "         for f in range(1,61):\n",
    "            if f<10:\n",
    "                 df = pd.read_csv(\"../Data/\"+c+\"/\"+p+\"/s0\"+str(f)+\".txt\",delimiter=',',names=title)\n",
    "            else:\n",
    "                 df = pd.read_csv(\"../Data/\"+c+\"/\"+p+\"/s\"+str(f)+\".txt\",delimiter=',',names=title)\n",
    "            \n",
    "            salidaMuestra = clasescod[posClase]\n",
    "            salidaSpeaker = personscod[posPerson]\n",
    "            vectorsalida=np.zeros(1)\n",
    "            vectorsalida[0]=salidaMuestra\n",
    "            vectorspeaker=np.zeros(1)\n",
    "            vectorspeaker[0]= salidaSpeaker\n",
    "            matrixSegmentos=df.to_numpy()\n",
    "            media, varianza, maximo, minimo,transformada=calcularVectorFeatures(matrixSegmentos)\n",
    "            features=np.concatenate((media,varianza,maximo,minimo,transformada,vectorsalida, vectorspeaker))\n",
    "            \n",
    "            data_matrix.append(features)\n",
    "            \n",
    "data = np.asarray(data_matrix)\n",
    "print(data.shape)\n"
   ]
  },
  {
   "cell_type": "code",
   "execution_count": 2,
   "metadata": {},
   "outputs": [
    {
     "ename": "NameError",
     "evalue": "name 'data' is not defined",
     "output_type": "error",
     "traceback": [
      "\u001b[1;31m---------------------------------------------------------------------------\u001b[0m",
      "\u001b[1;31mNameError\u001b[0m                                 Traceback (most recent call last)",
      "\u001b[1;32m<ipython-input-2-b46e53d8d814>\u001b[0m in \u001b[0;36m<module>\u001b[1;34m\u001b[0m\n\u001b[1;32m----> 1\u001b[1;33m \u001b[0mw\u001b[0m \u001b[1;33m=\u001b[0m \u001b[0mnp\u001b[0m\u001b[1;33m.\u001b[0m\u001b[0msavetxt\u001b[0m\u001b[1;33m(\u001b[0m\u001b[1;34m\"dataset_f.csv\"\u001b[0m\u001b[1;33m,\u001b[0m \u001b[0mdata\u001b[0m\u001b[1;33m,\u001b[0m \u001b[0mdelimiter\u001b[0m\u001b[1;33m=\u001b[0m\u001b[1;34m\",\"\u001b[0m\u001b[1;33m)\u001b[0m\u001b[1;33m\u001b[0m\u001b[1;33m\u001b[0m\u001b[0m\n\u001b[0m",
      "\u001b[1;31mNameError\u001b[0m: name 'data' is not defined"
     ]
    }
   ],
   "source": [
    "w = np.savetxt(\"dataset_f.csv\", data, delimiter=\",\")"
   ]
  },
  {
   "cell_type": "code",
   "execution_count": null,
   "metadata": {},
   "outputs": [],
   "source": [
    "spamreader = csv.writer(file)\n",
    "spamreader.writerow(data)\n",
    "\n",
    "file.close()"
   ]
  },
  {
   "cell_type": "code",
   "execution_count": null,
   "metadata": {},
   "outputs": [],
   "source": [
    "from sklearn import preprocessing\n",
    "def codificarClases(vectorClases):    \n",
    "    le = preprocessing.LabelEncoder()\n",
    "    le.fit(vectorClases)\n",
    "    list(le.classes_)\n",
    "    response=le.transform(vectorClases) \n",
    "    return response"
   ]
  },
  {
   "cell_type": "code",
   "execution_count": null,
   "metadata": {},
   "outputs": [],
   "source": [
    "import math\n",
    "from scipy.fftpack import fft, ifft\n",
    "def transformadaFourier(vectorColumna):\n",
    "    result=np.fft.fft(vectorColumna)\n",
    "    \n",
    "    index = math.floor(result.shape[0]/2)\n",
    "    #print(index)\n",
    "    result = result.reshape(result.shape[0],1)\n",
    "    #print(vectorColumna.shape,result.shape, index)\n",
    "    #print(result)\n",
    "    vectorPartido=result[62:-1]\n",
    "    #print(vectorPartido.shape,'vector partido')\n",
    " \n",
    "    vectorabsoluto=np.abs(vectorPartido)\n",
    "    #print(vectorabsoluto)\n",
    "    posicionMaxima=np.argmax(vectorabsoluto)\n",
    "    #print(posicionMaxima)\n",
    "    return posicionMaxima\n"
   ]
  },
  {
   "cell_type": "code",
   "execution_count": null,
   "metadata": {},
   "outputs": [],
   "source": [
    "def calcularVectorFeatures(MatrixSegmentos):\n",
    "    medias=np.zeros(45)\n",
    "    varianzas=np.zeros(45)\n",
    "    maximos=np.zeros(45)\n",
    "    minimos=np.zeros(45)\n",
    "    transformada=np.zeros(45)\n",
    "    size=MatrixSegmentos.shape\n",
    "    i=0\n",
    "    for j in range(0,size[1]):\n",
    "        vectorEvaluar=MatrixSegmentos[:,j] #Recopilando columna j\n",
    "        vectoraux=np.reshape(125,1)\n",
    "        vectoraux=vectorEvaluar\n",
    "        #print(vectoraux)\n",
    "        medias[i]=np.mean(vectorEvaluar)\n",
    "        varianzas[i]=np.var(vectorEvaluar)\n",
    "        maximos[i]=max(vectorEvaluar)\n",
    "        minimos[i]=min(vectorEvaluar)\n",
    "     \n",
    "        transformada[i]=transformadaFourier(vectorEvaluar)\n",
    "        #print(result)\n",
    "        #transformada[i]=result\n",
    "        #print(transformada[i])\n",
    "        i=i+1\n",
    "    return medias,varianzas,maximos,minimos,transformada\n",
    "\n",
    "    "
   ]
  },
  {
   "cell_type": "code",
   "execution_count": null,
   "metadata": {},
   "outputs": [],
   "source": [
    "clases=codificarClases(clases)\n",
    "print(clases)"
   ]
  },
  {
   "cell_type": "code",
   "execution_count": null,
   "metadata": {},
   "outputs": [],
   "source": [
    "from sklearn.neighbors import KNeighborsClassifier\n",
    "from sklearn.model_selection import GridSearchCV\n",
    "parameters = {'n_neighbors':[1,2]}\n",
    "\n",
    "neigh = KNeighborsClassifier()\n",
    "#neigh.fit(X, Y) \n",
    "groups = np.array(personsLabel)\n",
    "print(groups)\n",
    "group_kfold = GroupKFold(n_splits=7)\n",
    "#group_kfold.get_n_splits(X, Y, groups)\n",
    "\n",
    "clf = GridSearchCV(neigh, parameters, cv=group_kfold.split(X_train, y_train, groups[train_index]))\n",
    "clf.fit(X_train,y_train)\n",
    "print(clf.best_estimator_)"
   ]
  },
  {
   "cell_type": "code",
   "execution_count": null,
   "metadata": {},
   "outputs": [],
   "source": []
  },
  {
   "cell_type": "code",
   "execution_count": null,
   "metadata": {},
   "outputs": [],
   "source": [
    "clf.predict(X_test)"
   ]
  },
  {
   "cell_type": "code",
   "execution_count": null,
   "metadata": {},
   "outputs": [],
   "source": [
    "neigh = KNeighborsClassifier()\n",
    "#neigh.fit(X, Y) \n",
    "groups = np.array(personsLabel)\n",
    "print(groups[train_index].shape)\n",
    "group_kfold = GroupKFold(n_splits=7)\n",
    "#group_kfold.get_n_splits(X, Y, groups)\n",
    "\n",
    "clf = GridSearchCV(neigh, parameters, cv=group_kfold.split(X_train, y_train, groups[train_index]))\n",
    "\n",
    "clf.fit(X_train,y_train)\n",
    "print(clf.best_estimator_)"
   ]
  }
 ],
 "metadata": {
  "kernelspec": {
   "display_name": "Python 3",
   "language": "python",
   "name": "python3"
  },
  "language_info": {
   "codemirror_mode": {
    "name": "ipython",
    "version": 3
   },
   "file_extension": ".py",
   "mimetype": "text/x-python",
   "name": "python",
   "nbconvert_exporter": "python",
   "pygments_lexer": "ipython3",
   "version": "3.7.3"
  }
 },
 "nbformat": 4,
 "nbformat_minor": 2
}
